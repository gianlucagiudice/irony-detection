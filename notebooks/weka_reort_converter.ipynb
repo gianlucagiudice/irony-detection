{
 "cells": [
  {
   "cell_type": "markdown",
   "metadata": {
    "collapsed": true,
    "pycharm": {
     "name": "#%% md\n"
    }
   },
   "source": [
    "# Classification report"
   ]
  },
  {
   "cell_type": "markdown",
   "source": [
    "### Target dataset"
   ],
   "metadata": {
    "collapsed": false
   }
  },
  {
   "cell_type": "code",
   "execution_count": 195,
   "outputs": [
    {
     "data": {
      "text/plain": "'/home/gianlu/Documents/Dev/irony-detection/reports/weka/no-bow'"
     },
     "metadata": {},
     "output_type": "execute_result",
     "execution_count": 195
    }
   ],
   "source": [
    "weka_path = 'weka/no-bow'\n",
    "# Get project root\n",
    "path = !pwd\n",
    "report_path = '{}/{}/{}'.format('/'.join(path[0].split('/')[:-1]), 'reports', weka_path)\n",
    "report_path"
   ],
   "metadata": {
    "collapsed": false,
    "pycharm": {
     "name": "#%%\n",
     "is_executing": false
    }
   }
  },
  {
   "cell_type": "markdown",
   "source": [
    "Read report"
   ],
   "metadata": {
    "collapsed": false
   }
  },
  {
   "cell_type": "code",
   "execution_count": 196,
   "outputs": [],
   "source": [
    "def read_report(path_file):\n",
    "\twith open(path_file) as file:\n",
    "\t\tfile_content = file.readlines()\n",
    "\treturn [line.strip() for line in file_content]\n",
    "\n",
    "def extract_name(file_path):\n",
    "\tfilename = file_path.split('/')[-1]\n",
    "\tfeatures = '-'.join(filename.split('.')[0].split('-')[1:])\n",
    "\treturn features"
   ],
   "metadata": {
    "collapsed": false,
    "pycharm": {
     "name": "#%%\n",
     "is_executing": false
    }
   }
  },
  {
   "cell_type": "markdown",
   "source": [
    "Evaluate report"
   ],
   "metadata": {
    "collapsed": false
   }
  },
  {
   "cell_type": "code",
   "execution_count": 197,
   "outputs": [],
   "source": [
    "def extract_report_data(file_content):\n",
    "\tdict_report = dict()\n",
    "\t# Extract dict report\n",
    "\tdict_report['accuracy'] = float(file_content[3].split()[-2])/100\n",
    "\tdict_report['False'] = extract_report_type(file_content, 16)\n",
    "\tdict_report['True'] = extract_report_type(file_content, 15)\n",
    "\tdict_report['weighted avg'] = extract_report_type(file_content, 17)\n",
    "\t# Build report dict\n",
    "\tdict_data = dict()\n",
    "\tdict_data['report'] = dict_report\n",
    "\tdict_data['confusion-matrix'] = extract_confusion_matrix(file_content)\n",
    "\t# Return dict\n",
    "\treturn dict_data\n",
    "\n",
    "def extract_report_type(file_content, line):\n",
    "\tsplit_line = file_content[line].split()\n",
    "\t# Support\n",
    "\tif line == 16:\n",
    "\t\tsupport = 30000\n",
    "\telif line == 15:\n",
    "\t\tsupport = 10000\n",
    "\telse:\n",
    "\t\tsplit_line = split_line[2:]\n",
    "\t\tsupport = 40000\n",
    "\t# Split line\n",
    "\treport_dict = extract_line(split_line)\n",
    "\treport_dict['support'] = float(support)\n",
    "\t\n",
    "\treturn report_dict\n",
    "\t\n",
    "def extract_line(line):\n",
    "\treport_dict = dict()\n",
    "\treport_dict['precision'] = float(line[2])\n",
    "\treport_dict['recall'] = float(line[3])\n",
    "\treport_dict['f1-score'] = float(line[4])\n",
    "\treturn report_dict\n",
    "\n",
    "def extract_dict(path_file):\n",
    "\t# Read file content\n",
    "\tfile_content = read_report(path_file)\n",
    "\t# Build dict\n",
    "\tout_dict = dict()\n",
    "\tout_dict['overall'] = extract_report_data(file_content)\n",
    "\tout_dict['features'] = extract_name(path_file)\n",
    "\tout_dict['classifier'] = 'BayesianNetworks'\n",
    "\t# Return dict\n",
    "\treturn out_dict"
   ],
   "metadata": {
    "collapsed": false,
    "pycharm": {
     "name": "#%%\n",
     "is_executing": false
    }
   }
  },
  {
   "cell_type": "markdown",
   "source": [
    "Confusion matrix"
   ],
   "metadata": {
    "collapsed": false
   }
  },
  {
   "cell_type": "code",
   "execution_count": 198,
   "outputs": [],
   "source": [
    "import numpy as np\n",
    "def extract_confusion_matrix(file_content):\n",
    "\ttp, fp, *_ = file_content[22].split()\n",
    "\tfn, tn, *_ = file_content[23].split()\n",
    "\t# Create numpy matrix\n",
    "\tmatrix = np.array([[tp, fp], [fn, tn]], dtype=np.float)\n",
    "\t# Swap rows\n",
    "\tout_matrix = np.zeros((2, 2))\n",
    "\tout_matrix[0, :] = matrix[1, :] \n",
    "\tout_matrix[1, :] = matrix[0, :] \n",
    "\t# Swap columns\n",
    "\tout_matrix[0, 0], out_matrix[0, 1] = out_matrix[0, 1], out_matrix[0, 0]\n",
    "\tout_matrix[1, 0], out_matrix[1, 1] = out_matrix[1, 1], out_matrix[1, 0]\n",
    "\t# Return confusion matrix\n",
    "\treturn out_matrix.tolist()"
   ],
   "metadata": {
    "collapsed": false,
    "pycharm": {
     "name": "#%%\n",
     "is_executing": false
    }
   }
  },
  {
   "cell_type": "markdown",
   "source": [
    "Save json report"
   ],
   "metadata": {
    "collapsed": false
   }
  },
  {
   "cell_type": "code",
   "execution_count": 199,
   "outputs": [],
   "source": [
    "import json\n",
    "def dump_dict_report(dict):\n",
    "\tfilename = '{}${}.json'.format(dict['features'], 'BayesianNetworks')\n",
    "\tpath = '{}/json/{}'.format(report_path, filename)\n",
    "\twith open(path, 'w') as fp:\n",
    "\t\tjson.dump(dict, fp)\n"
   ],
   "metadata": {
    "collapsed": false,
    "pycharm": {
     "name": "#%%\n",
     "is_executing": false
    }
   }
  },
  {
   "cell_type": "markdown",
   "source": [
    "Read all files"
   ],
   "metadata": {
    "collapsed": false
   }
  },
  {
   "cell_type": "code",
   "execution_count": 200,
   "outputs": [],
   "source": [
    "import os\n",
    "file = 'labeled_matrix-emot.txt'\n",
    "path_file = '{}/{}'.format(report_path, file)\n",
    "\n",
    "file_list = os.listdir('{}/text'.format(report_path))"
   ],
   "metadata": {
    "collapsed": false,
    "pycharm": {
     "name": "#%%\n",
     "is_executing": false
    }
   }
  },
  {
   "cell_type": "markdown",
   "source": [
    "Evaluate all reports"
   ],
   "metadata": {
    "collapsed": false
   }
  },
  {
   "cell_type": "code",
   "execution_count": 201,
   "outputs": [],
   "source": [
    "for file in os.listdir('{}/text'.format(report_path)):\n",
    "\t# Get file path\n",
    "\tpath_file = '{}/text/{}'.format(report_path, file)\n",
    "\t# Extract report dict\n",
    "\treport_dict = extract_dict(path_file)\n",
    "\t# Dump dict\n",
    "\tdump_dict_report(report_dict)"
   ],
   "metadata": {
    "collapsed": false,
    "pycharm": {
     "name": "#%%\n",
     "is_executing": false
    }
   }
  }
 ],
 "metadata": {
  "kernelspec": {
   "display_name": "Python 3",
   "language": "python",
   "name": "python3"
  },
  "language_info": {
   "codemirror_mode": {
    "name": "ipython",
    "version": 2
   },
   "file_extension": ".py",
   "mimetype": "text/x-python",
   "name": "python",
   "nbconvert_exporter": "python",
   "pygments_lexer": "ipython2",
   "version": "2.7.6"
  },
  "pycharm": {
   "stem_cell": {
    "cell_type": "raw",
    "source": [],
    "metadata": {
     "collapsed": false
    }
   }
  }
 },
 "nbformat": 4,
 "nbformat_minor": 0
}