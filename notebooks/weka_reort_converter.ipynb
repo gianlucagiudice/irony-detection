{
 "cells": [
  {
   "cell_type": "markdown",
   "metadata": {
    "collapsed": true,
    "pycharm": {
     "name": "#%% md\n"
    }
   },
   "source": [
    "# Classification report"
   ]
  },
  {
   "cell_type": "markdown",
   "source": [
    "### Target dataset"
   ],
   "metadata": {
    "collapsed": false
   }
  },
  {
   "cell_type": "code",
   "execution_count": 38,
   "outputs": [
    {
     "data": {
      "text/plain": "'/home/gianlu/Documents/Dev/irony-detection/reports/weka/no-bow'"
     },
     "metadata": {},
     "output_type": "execute_result",
     "execution_count": 38
    }
   ],
   "source": [
    "weka_path = 'weka/no-bow'\n",
    "# Get project root\n",
    "path = !pwd\n",
    "report_path = '{}/{}/{}'.format('/'.join(path[0].split('/')[:-1]), 'reports', weka_path)\n",
    "\n",
    "report_path"
   ],
   "metadata": {
    "collapsed": false,
    "pycharm": {
     "name": "#%%\n",
     "is_executing": false
    }
   }
  },
  {
   "cell_type": "code",
   "execution_count": 39,
   "outputs": [],
   "source": [
    "file = 'labeled_matrix-emot.txt'\n",
    "\n",
    "path_file = '{}/{}'.format(report_path, file)\n",
    "path_file\n",
    "\n",
    "def read_report(path_file):\n",
    "\twith open(path_file) as file:\n",
    "\t\tfile_content = file.readlines()\n",
    "\treturn [line.strip() for line in file_content]\n",
    "\n",
    "def extract_name(file_name):\n",
    "\tfeatures = file_name.split('-')[1].split('.')[0]\n",
    "\treturn features\n",
    "\n",
    "def extract_report_data(file_content):\n",
    "\tdict_report = dict()\n",
    "\t# Extract dict report\n",
    "\tdict_report['accuracy'] = float(file_content[3].split()[-2])/100\n",
    "\tdict_report['False'] = extract_report_type(file_content, 16)\n",
    "\tdict_report['True'] = extract_report_type(file_content, 15)\n",
    "\tprint(dict_report)\n",
    "\t# Build report dict\n",
    "\tdict_data = dict()\n",
    "\tdict_data['report'] = dict_report\n",
    "\tdict_data['confusion-matrix'] = [[1,2],[3,4]]\n",
    "\t# Return dict\n",
    "\treturn dict_data\n",
    "\n",
    "def extract_report_type(file_content, line):\n",
    "\treport_dict = extract_line(file_content[line].split())\n",
    "\t# Support\n",
    "\tif line == 16:\n",
    "\t\tsupport = 30000\n",
    "\telif line == 15:\n",
    "\t\tsupport = 10000\n",
    "\telse:\n",
    "\t\tsupport = 40000\n",
    "\treport_dict['support'] = float(support)\n",
    "\t\n",
    "\treturn report_dict\n",
    "\t\n",
    "def extract_line(line):\n",
    "\treport_dict = dict()\n",
    "\treport_dict['precision'] = float(line[2])\n",
    "\treport_dict['recall'] = float(line[3])\n",
    "\treport_dict['f1-score'] = float(line[4])\n",
    "\treturn report_dict\n",
    "\n",
    "def extract_dict(path_file):\n",
    "\tout_dict = dict()\n",
    "\t\n",
    "\tfile_content = read_report(path_file)\n",
    "\tout_dict['features'] = extract_name(path_file)\n",
    "\tout_dict['classifier'] = 'BayesianNetworks'\n",
    "\t"
   ],
   "metadata": {
    "collapsed": false,
    "pycharm": {
     "name": "#%%\n",
     "is_executing": false
    }
   }
  },
  {
   "cell_type": "code",
   "execution_count": 41,
   "outputs": [
    {
     "name": "stdout",
     "text": [
      "{'accuracy': 0.7443000000000001, 'False': {'precision': 0.755, 'recall': 0.976, 'f1-score': 0.851, 'support': 30000.0}, 'True': {'precision': 0.408, 'recall': 0.051, 'f1-score': 0.09, 'support': 10000.0}}\nciaooooo\n"
     ],
     "output_type": "stream"
    }
   ],
   "source": [
    "a = extract_report_data(file_content)\n",
    "print('ciaooooo')"
   ],
   "metadata": {
    "collapsed": false,
    "pycharm": {
     "name": "#%%\n",
     "is_executing": false
    }
   }
  }
 ],
 "metadata": {
  "kernelspec": {
   "display_name": "Python 3",
   "language": "python",
   "name": "python3"
  },
  "language_info": {
   "codemirror_mode": {
    "name": "ipython",
    "version": 2
   },
   "file_extension": ".py",
   "mimetype": "text/x-python",
   "name": "python",
   "nbconvert_exporter": "python",
   "pygments_lexer": "ipython2",
   "version": "2.7.6"
  },
  "pycharm": {
   "stem_cell": {
    "cell_type": "raw",
    "source": [],
    "metadata": {
     "collapsed": false
    }
   }
  }
 },
 "nbformat": 4,
 "nbformat_minor": 0
}