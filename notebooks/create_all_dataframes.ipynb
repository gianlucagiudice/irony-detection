{
 "cells": [
  {
   "cell_type": "markdown",
   "source": [
    "Get ROOT path"
   ],
   "metadata": {
    "collapsed": false
   }
  },
  {
   "cell_type": "code",
   "execution_count": 66,
   "metadata": {
    "collapsed": true,
    "pycharm": {
     "is_executing": false,
     "name": "#%%\n"
    }
   },
   "outputs": [
    {
     "data": {
      "text/plain": "'/home/gianlu/Documents/Dev/irony-detection/'"
     },
     "metadata": {},
     "output_type": "execute_result",
     "execution_count": 66
    }
   ],
   "source": [
    "ROOT = !pwd\n",
    "idx = ROOT[0].split(\"/\").index('irony-detection')\n",
    "ROOT = '/'.join(ROOT[0].split(\"/\")[:idx+1]) + '/'\n",
    "ROOT"
   ]
  },
  {
   "cell_type": "markdown",
   "source": [
    "Powerset function"
   ],
   "metadata": {
    "collapsed": false
   }
  },
  {
   "cell_type": "code",
   "execution_count": 85,
   "outputs": [],
   "source": [
    "def powerset(iterable):\n",
    "\tpowerset = []\n",
    "\tx = len(iterable)\n",
    "\tfor i in range(1 << x):\n",
    "\t\tpowerset += [[iterable[j] for j in range(x) if (i & (1 << j))]]\n",
    "\treturn powerset"
   ],
   "metadata": {
    "collapsed": false,
    "pycharm": {
     "name": "#%%\n",
     "is_executing": false
    }
   }
  },
  {
   "cell_type": "markdown",
   "source": [
    "Target features"
   ],
   "metadata": {
    "collapsed": false,
    "pycharm": {
     "name": "#%% md\n"
    }
   }
  },
  {
   "cell_type": "code",
   "execution_count": 87,
   "outputs": [
    {
     "data": {
      "text/plain": "[[],\n ['pp'],\n ['pos'],\n ['pp', 'pos'],\n ['emot'],\n ['pp', 'emot'],\n ['pos', 'emot'],\n ['pp', 'pos', 'emot']]"
     },
     "metadata": {},
     "output_type": "execute_result",
     "execution_count": 87
    }
   ],
   "source": [
    "target_features = ['pp', 'pos', 'emot']\n",
    "power_set = powerset(target_features)\n",
    "list(power_set)"
   ],
   "metadata": {
    "collapsed": false,
    "pycharm": {
     "name": "#%%\n",
     "is_executing": false
    }
   }
  },
  {
   "cell_type": "markdown",
   "source": [
    "Execute scirpt for each features combination"
   ],
   "metadata": {
    "collapsed": false,
    "pycharm": {
     "name": "#%% md\n"
    }
   }
  },
  {
   "cell_type": "code",
   "execution_count": 99,
   "outputs": [
    {
     "name": "stdout",
     "text": [
      "Traceback (most recent call last):\r\n  File \"/home/gianlu/Documents/Dev/irony-detection/main.py\", line 3, in <module>\r\n    from src.features.FeatureManager import FeatureManager\r\n  File \"/home/gianlu/Documents/Dev/irony-detection/src/features/FeatureManager.py\", line 3, in <module>\r\n    from src.features.EmotionalFeature import EmotionalFeature\r\n  File \"/home/gianlu/Documents/Dev/irony-detection/src/features/EmotionalFeature.py\", line 11, in <module>\r\n    LEXICONS_LIST = [Lexicon(EmoLexParser(EMOLEX_PATH)),\r\n  File \"/home/gianlu/Documents/Dev/irony-detection/src/lexicons/parser/ParseStrategy.py\", line 7, in __init__\r\n    self.fileContent = self.read_file()\r\n  File \"/home/gianlu/Documents/Dev/irony-detection/src/lexicons/parser/ParseStrategy.py\", line 10, in read_file\r\n    with open(self.path) as file:\r\nFileNotFoundError: [Errno 2] No such file or directory: 'data/external/lexicons/emo-lex-v0.92.txt'\r\n"
     ],
     "output_type": "stream"
    }
   ],
   "source": [
    "import subprocess\n",
    "b = '-l'\n",
    "command = ' '.join(['python3', ROOT+'main.py'] + [])\n",
    "! $command"
   ],
   "metadata": {
    "collapsed": false,
    "pycharm": {
     "name": "#%%\n",
     "is_executing": false
    }
   }
  }
 ],
 "metadata": {
  "kernelspec": {
   "display_name": "Python 3",
   "language": "python",
   "name": "python3"
  },
  "language_info": {
   "codemirror_mode": {
    "name": "ipython",
    "version": 2
   },
   "file_extension": ".py",
   "mimetype": "text/x-python",
   "name": "python",
   "nbconvert_exporter": "python",
   "pygments_lexer": "ipython2",
   "version": "2.7.6"
  },
  "pycharm": {
   "stem_cell": {
    "cell_type": "raw",
    "source": [],
    "metadata": {
     "collapsed": false
    }
   }
  }
 },
 "nbformat": 4,
 "nbformat_minor": 0
}